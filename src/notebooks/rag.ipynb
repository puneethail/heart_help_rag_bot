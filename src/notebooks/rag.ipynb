{
 "cells": [
  {
   "cell_type": "code",
   "execution_count": 17,
   "id": "94c0c026",
   "metadata": {},
   "outputs": [],
   "source": [
    "from langchain_community.document_loaders import PyMuPDFLoader"
   ]
  },
  {
   "cell_type": "code",
   "execution_count": 1,
   "id": "e1d8015a",
   "metadata": {},
   "outputs": [
    {
     "name": "stdout",
     "output_type": "stream",
     "text": [
      "C:\\Users\\PUNEETH\\Desktop\\All files\\RAG\\niyathi_rag\n"
     ]
    }
   ],
   "source": [
    "%cd \"C:\\Users\\PUNEETH\\Desktop\\All files\\RAG\\niyathi_rag\""
   ]
  },
  {
   "cell_type": "markdown",
   "id": "aedd323f",
   "metadata": {},
   "source": [
    "Extracting text from Docs"
   ]
  },
  {
   "cell_type": "code",
   "execution_count": 19,
   "id": "bfa85e56",
   "metadata": {},
   "outputs": [],
   "source": [
    "from langchain_community.document_loaders import PyMuPDFLoader\n",
    "from src.backend.textextractor import DocumentLoader"
   ]
  },
  {
   "cell_type": "code",
   "execution_count": 20,
   "id": "e5c99a78",
   "metadata": {},
   "outputs": [
    {
     "name": "stdout",
     "output_type": "stream",
     "text": [
      "Loading all files from folder: src\\docs\n",
      " → Loading: src\\docs\\doc1.pdf\n",
      "Loading file: src\\docs\\doc1.pdf\n",
      " → Loading: src\\docs\\doc2.pdf\n",
      "Loading file: src\\docs\\doc2.pdf\n",
      "\n",
      "✅ Total documents loaded: 60\n"
     ]
    }
   ],
   "source": [
    "texts = DocumentLoader(path=r\"src\\docs\").load()"
   ]
  },
  {
   "cell_type": "code",
   "execution_count": 21,
   "id": "8eea2f89",
   "metadata": {},
   "outputs": [
    {
     "data": {
      "text/plain": [
       "Document(metadata={'producer': 'Acrobat Distiller 6.0 for Windows', 'creator': 'Elsevier', 'creationdate': '2008-12-01T13:19:14+05:30', 'source': 'src\\\\docs\\\\doc2.pdf', 'file_path': 'src\\\\docs\\\\doc2.pdf', 'total_pages': 38, 'format': 'PDF 1.4', 'title': 'Essentials of Cardiology', 'author': 'Timothy C. Slesnick; Ralph Gertler; Wanda C. Miller-Hance', 'subject': '', 'keywords': '', 'moddate': '2009-01-05T18:26:04+05:30', 'trapped': '', 'modDate': \"D:20090105182604+05'30'\", 'creationDate': \"D:20081201131914+05'30'\", 'page': 37}, page_content='330\\nresult in a normal life expectancy and normal cardiovascular \\nreserve.332 Th ey generally require no further medical or surgical \\ntreatment. As such, only a few procedures fulﬁ ll these criteria: \\nligation/division/occlusion of a patent ductus arteriosus and \\nclosure of an isolated secundum atrial septal defect. Other inter-\\nventions or surgical procedures may result in repair or “correc-\\ntion,” however not necessarily in normal hemodynamics or life \\nexpectancy. In fact, some assume limitation in cardiovascular \\nreserve and the need for close follow-up, further medical man-\\nagement, and potential or additional surgical therapies. In other \\ncases, as in children with palliated CHD, the circulation may still \\nbe abnormal. Th ese individuals have been reported to be at a \\ngreater risk of adverse perioperative events.333-335\\nTh e eﬀ ect or impact to the heart and other systems during \\nprevious procedures also requires careful consideration. A \\nnumber of problems may remain or develop after surgical inter-\\nvention. Th ese include residual shunts, valvar stenoses or \\noutﬂ ow tract obstruction, valvar regurgitation, pulmonary \\nhypertension, arrhythmias, and ventricular dysfunction. Chil-\\ndren who require a detailed appraisal of perioperative risks \\ninclude those with residual signiﬁ cant pathology; suspected or \\nknown pulmonary hypertension, single-ventricle physiology \\n(including patients post Norwood procedures, Glenn opera-\\ntions, or Fontan palliations), and after conduit placement or \\ncardiac transplantation (see Chapters 15, 16, and 21).\\nSummary\\nCaring for children with heart disease is a major aspect of \\npediatric anesthesia practice. Th e spectrum of pathology in \\nthe pediatric age group includes a wide range of structural \\ndefects as well as varied acquired diseases. Th e ability to provide \\noptimal care is dependent on an understanding of the basic \\npathophysiology of the lesions; familiarity with the commonly \\nused diagnostic modalities and their clinical applications; \\nand medical and surgical treatment options available to aﬀ ected \\nindividuals. In this chapter we have presented basic concepts \\nin cardiology that may enhance the overall knowledge of \\nthe practicing anesthesiologist in pediatric cardiovascular \\ndisease.\\nAnnotated References\\nHata T, Todd MM: Cervical spine considerations when anesthetiz-\\ning patients with Down syndrome. Anesthesiology 2005; 102:\\n680-685\\nTh e review stresses the need for careful preoperative evaluation in chil-\\ndren with Down syndrome to identify symptomatic patients with \\ncervical spine anomalies.\\nJeﬀ eries JL, Denﬁ eld SW, Price JF, et al: A prospective evaluation of \\nnesiritide in the treatment of pediatric heart failure. Pediatr Cardiol \\n2006; 27:402-407\\nTh e study evaluated the potential role of recombinant B-type natriuretic \\npeptide (nesiritide) for the treatment of pediatric decompensated \\nheart failure. Nesiritide was associated with improved urine output \\nand functional status, supporting its application in the treatment of \\npediatric heart failure.\\nIkemba CM, Su JT, Stayer SA, et al: Myocardial performance index \\nwith \\nsevoﬂ urane-pancuronium \\nversus \\nfentanyl-midazolam-\\npancuronium in infants with a functional single ventricle. Anes-\\nthesiology 2004; 101:1298-1305\\nTh e study assessed changes in ventricular function in response to two \\nanesthetic regimens in single-ventricle patients using recently \\ndescribed echocardiographic indices (myocardial performance index \\nand Doppler tissue imaging).\\nLang RM, Mor-Avi V, Sugeng L, et al: Th ree-dimensional echocardiog-\\nraphy: the beneﬁ ts of the additional dimension. J Am Coll Cardiol \\n2006; 48:2053-2069\\nTh e article focuses on the beneﬁ ts of 3D echocardiography, the realistic \\nand unique comprehensive views of cardiac valves and congenital \\nabnormalities; and the utility in the intraoperative and postoperative \\nsettings.\\nSamyn MM: A review of the complementary information available with \\ncardiac magnetic resonance imaging and multi-slice computed \\ntomography (CT) during the study of congenital heart disease. Int \\nJ Cardiovasc Imaging 2004; 20:569-578\\nTh e review highlights the applications of cardiac magnetic resonance \\nimaging and computed tomography (CT) in the diagnosis of congeni-\\ntal heart disease. \\nReferences\\nPlease see www.expertconsult.com\\nA Practice of Anesthesia for Infants and Children')"
      ]
     },
     "execution_count": 21,
     "metadata": {},
     "output_type": "execute_result"
    }
   ],
   "source": [
    "texts[59]"
   ]
  },
  {
   "cell_type": "markdown",
   "id": "4c48cf0d",
   "metadata": {},
   "source": [
    "Chunking"
   ]
  },
  {
   "cell_type": "code",
   "execution_count": 22,
   "id": "ceb28902",
   "metadata": {},
   "outputs": [],
   "source": [
    "from src.backend.textchunker import chunking"
   ]
  },
  {
   "cell_type": "code",
   "execution_count": 23,
   "id": "aec25adc",
   "metadata": {},
   "outputs": [],
   "source": [
    "chunks = chunking(texts).chunker()"
   ]
  },
  {
   "cell_type": "code",
   "execution_count": 24,
   "id": "0dbfacc4",
   "metadata": {},
   "outputs": [
    {
     "data": {
      "text/plain": [
       "'oxygen to part of your heart muscle. \\n• \\nHeart valve disease: A valve in your heart isn’t working right. \\n• \\nHigh blood pressure: Your blood is pushing too hard against your artery walls. \\n• \\nHigh cholesterol: Your blood has too many fats in it. \\n• \\nPericarditis: Inflammation in your heart’s lining (pericardium). \\nCommon signs or symptoms of heart conditions \\nSymptoms of heart conditions include: \\n• \\nChest pain. \\n• \\nHeart palpitations. \\n• \\nDizziness. \\n• \\nShortness of breath. \\n• \\nFatigue. \\n• \\nSwelling in your lower body. \\nCommon tests to check the health of your heart \\nTests to check your heart health include:'"
      ]
     },
     "execution_count": 24,
     "metadata": {},
     "output_type": "execute_result"
    }
   ],
   "source": [
    "chunks[1].page_content"
   ]
  },
  {
   "cell_type": "markdown",
   "id": "40072d1c",
   "metadata": {},
   "source": [
    "EMbedding and saving in Vector DB"
   ]
  },
  {
   "cell_type": "code",
   "execution_count": 25,
   "id": "1d730a2f",
   "metadata": {},
   "outputs": [],
   "source": [
    "\n",
    "from src.constants import GOOGLE_API_KEY\n"
   ]
  },
  {
   "cell_type": "code",
   "execution_count": 2,
   "id": "f075f9d7",
   "metadata": {},
   "outputs": [],
   "source": [
    "from src.backend.vectordb_handler import VectorDBManagerOpenAI\n",
    "vdb = VectorDBManagerOpenAI(\n",
    "        db_path=\"./chroma_db\",\n",
    "        collection_name=\"heart_data_vb\"\n",
    "    )"
   ]
  },
  {
   "cell_type": "code",
   "execution_count": 46,
   "id": "999823b0",
   "metadata": {},
   "outputs": [
    {
     "name": "stdout",
     "output_type": "stream",
     "text": [
      "✅ Stored 65 document(s) in vector DB 'heart_data_vb'\n"
     ]
    }
   ],
   "source": [
    "stored_ids = vdb.store_documents(\n",
    "        text=text,\n",
    "        metadatas=metadata\n",
    "    )"
   ]
  },
  {
   "cell_type": "code",
   "execution_count": 3,
   "id": "6ee11582",
   "metadata": {},
   "outputs": [
    {
     "data": {
      "text/plain": [
       "{'ids': ['60a5dbca-a27e-44db-92cd-4fd425405e5a'],\n",
       " 'embeddings': array([[-3.06150480e-03,  3.08360513e-02, -2.41750441e-02,\n",
       "         -1.59890223e-02, -2.22453289e-02,  7.69371837e-02,\n",
       "          2.87633501e-02, -6.42700866e-02, -2.49724258e-02,\n",
       "          2.21080221e-02, -9.29812319e-04,  2.54862551e-02,\n",
       "          5.27324416e-02, -3.41078825e-02,  2.00824067e-02,\n",
       "         -7.33709782e-02,  2.99585573e-02, -4.13971953e-02,\n",
       "         -4.58694175e-02, -2.77660474e-05,  9.69837047e-03,\n",
       "         -3.40261273e-02, -1.33345798e-02,  6.59902347e-03,\n",
       "         -3.75465602e-02, -7.34835267e-02, -1.05055999e-02,\n",
       "         -7.37927575e-03,  1.10963630e-02, -1.39839919e-02,\n",
       "         -3.28950286e-02,  1.10182688e-02,  5.96501045e-02,\n",
       "          1.31544266e-02,  5.18868007e-02, -3.64502668e-02,\n",
       "         -2.76531801e-02, -4.76227812e-02, -1.02353189e-02,\n",
       "          2.41137249e-03, -3.40513289e-02, -3.27372737e-02,\n",
       "         -4.82407659e-02, -1.25363935e-02, -1.31411664e-02,\n",
       "         -5.81094436e-03,  2.97080483e-02,  9.64037701e-03,\n",
       "         -1.91764273e-02,  2.02560648e-02, -1.83946844e-02,\n",
       "          7.62647856e-03, -7.73473457e-03, -1.15099840e-03,\n",
       "          5.81860449e-03, -8.04108754e-02, -7.16754571e-02,\n",
       "         -1.66150574e-02, -2.90126931e-02,  5.23094228e-03,\n",
       "         -7.36739710e-02, -1.74296591e-02,  1.40543142e-02,\n",
       "         -1.03018787e-02, -1.98316835e-02,  3.31345685e-02,\n",
       "         -5.16864173e-02, -4.50244173e-02, -1.21943504e-02,\n",
       "          2.06455048e-02, -3.83802280e-02,  4.49377969e-02,\n",
       "         -3.48618850e-02,  3.35620274e-03,  6.10290952e-02,\n",
       "         -5.68756089e-02, -8.00480193e-04, -6.77371249e-02,\n",
       "         -3.89552093e-03, -6.28818795e-02, -4.03892063e-02,\n",
       "          1.61556844e-02,  5.25111631e-02,  8.77871886e-02,\n",
       "          3.62818427e-02,  5.40909395e-02, -5.78621728e-03,\n",
       "         -6.67795986e-02, -5.61570115e-02, -3.11314571e-03,\n",
       "          6.73752576e-02,  1.66225899e-02, -3.57375033e-02,\n",
       "         -4.33902033e-02,  1.67476609e-02, -2.43775323e-02,\n",
       "         -1.09713282e-02, -6.08209409e-02,  6.40883446e-02,\n",
       "          5.66941202e-02, -5.44923125e-03, -4.77962429e-03,\n",
       "          2.91410945e-02, -4.85528484e-02,  4.17276211e-02,\n",
       "          1.71430465e-02,  1.31159738e-01, -8.29758123e-02,\n",
       "         -6.37155548e-02,  2.06014849e-02,  5.13240322e-02,\n",
       "         -5.71709126e-03,  4.29474674e-02,  1.14541024e-03,\n",
       "          4.58154653e-04,  2.13746149e-02, -2.14183386e-02,\n",
       "          2.20446084e-02, -2.74691777e-03,  1.70586314e-02,\n",
       "         -1.17381262e-02,  3.46587263e-02, -7.55803138e-02,\n",
       "          3.98817696e-02,  6.07088245e-02,  1.87080093e-02,\n",
       "          2.27835923e-02, -5.74175939e-02, -9.01594833e-02,\n",
       "         -1.03670601e-02, -6.13110838e-03, -3.23924199e-02,\n",
       "         -1.42385233e-02,  8.69349577e-03,  4.17147838e-02,\n",
       "          4.58542593e-02,  2.53124218e-02, -1.27427727e-02,\n",
       "          1.97776854e-02,  2.36613899e-02,  1.56217488e-04,\n",
       "         -6.12130761e-02, -8.58173147e-03,  2.02461723e-02,\n",
       "         -9.16505605e-03, -1.16379015e-01,  7.53233060e-02,\n",
       "          2.68116929e-02,  1.68348849e-02, -1.71684753e-02,\n",
       "          1.05934478e-02, -2.02037171e-02,  2.29061116e-02,\n",
       "          1.99867431e-02,  1.72617175e-02, -4.96340590e-03,\n",
       "          1.44871688e-02,  6.58221096e-02, -6.03792665e-04,\n",
       "          3.22550274e-02, -4.79840599e-02,  1.21000987e-02,\n",
       "          1.42165897e-02, -1.74178276e-02, -2.74015013e-02,\n",
       "          6.34248182e-02, -8.73494241e-03, -2.74351379e-03,\n",
       "         -1.17490822e-02, -8.29122961e-03, -2.48295851e-02,\n",
       "         -2.12427316e-04,  3.02533910e-04, -1.54381603e-01,\n",
       "         -1.80579990e-03, -5.35416342e-02, -1.14350375e-02,\n",
       "         -2.34660041e-02, -3.74684781e-02, -5.41774631e-02,\n",
       "          7.87462518e-02,  1.08284783e-02,  2.51032505e-02,\n",
       "         -4.85730991e-02,  3.35586630e-02,  2.00891551e-02,\n",
       "         -6.63269870e-03,  7.35902116e-02,  5.50403707e-02,\n",
       "          1.28688209e-03, -7.27847889e-02, -1.28034549e-02,\n",
       "         -9.30072274e-03,  1.24137830e-02,  2.72385962e-02,\n",
       "         -6.59722509e-03,  1.17243966e-02, -2.01223139e-03,\n",
       "          7.17666522e-02,  5.98748885e-02, -1.14175929e-02,\n",
       "         -6.21196174e-04,  4.12817486e-02, -2.06203330e-02,\n",
       "         -2.20473856e-02,  1.08117694e-02, -4.15275358e-02,\n",
       "         -4.88641765e-03,  2.60388316e-03,  6.34867884e-03,\n",
       "         -2.00412534e-02,  3.53285372e-02, -4.71593104e-02,\n",
       "         -4.47107963e-02, -2.37957183e-02,  5.74437901e-03,\n",
       "         -3.44209634e-02, -3.16895768e-02,  4.07612845e-02,\n",
       "          4.50501293e-02, -5.43129630e-02,  2.18397865e-04,\n",
       "         -2.11125030e-03,  3.22833285e-02,  4.35570581e-03,\n",
       "         -5.42852320e-02, -1.87568888e-02,  2.18846779e-02,\n",
       "          5.81641532e-02, -9.17654717e-04, -4.20940295e-02,\n",
       "          3.62765938e-02, -1.68509819e-02,  2.40173354e-03,\n",
       "          2.49131136e-02, -2.55594943e-02,  4.46502976e-02,\n",
       "         -3.46984826e-02, -1.24761062e-02, -4.18393947e-02,\n",
       "         -1.22524146e-02, -1.06239635e-02,  5.78880087e-02,\n",
       "         -1.79953407e-02, -9.88917891e-04, -5.88478856e-02,\n",
       "          5.49952537e-02,  2.70681153e-03, -7.20605813e-03,\n",
       "         -2.34842170e-02,  4.01681364e-02,  9.28083342e-03,\n",
       "          6.80156723e-02, -1.15432078e-02,  2.30848175e-02,\n",
       "         -3.39769349e-02, -6.68726675e-03,  6.99288072e-03,\n",
       "          2.40388629e-03,  3.15917693e-02,  2.23570038e-02,\n",
       "         -3.45265232e-02, -6.32949471e-02, -3.28953005e-02,\n",
       "         -3.66353057e-02, -8.86301324e-02, -2.10604700e-03,\n",
       "          5.69601133e-02,  2.43558306e-02, -3.96493971e-02,\n",
       "         -6.04209900e-02,  2.88815089e-02, -8.39491375e-03,\n",
       "         -6.79442659e-03,  4.41530906e-03, -1.04867294e-03,\n",
       "          3.38915214e-02, -2.72031613e-02, -9.28731402e-04,\n",
       "         -3.04176100e-02,  1.30273029e-03,  1.64602660e-02,\n",
       "         -4.71357722e-03,  1.13318590e-02,  3.30034457e-02,\n",
       "         -1.85516216e-02, -9.75589361e-03,  1.41207194e-02,\n",
       "         -5.46836620e-03, -3.69978249e-02,  2.97312699e-02,\n",
       "          4.27387655e-02, -6.75561652e-02, -7.71842003e-02,\n",
       "          2.32863077e-03, -4.60120924e-02,  2.97266822e-02,\n",
       "          1.09786736e-02,  2.46993750e-02, -7.59281125e-03,\n",
       "          3.45318504e-02,  8.78416151e-02, -4.96792756e-02,\n",
       "         -1.26744322e-02,  4.18919045e-03,  2.20397655e-02,\n",
       "         -1.79220084e-03, -6.54860809e-02,  3.72990803e-03,\n",
       "          3.92079353e-03,  5.95442317e-02, -1.99727416e-02,\n",
       "         -2.16219500e-02,  3.52515094e-02, -5.86966909e-02,\n",
       "          2.74820160e-02, -9.76972505e-02,  2.72975117e-02,\n",
       "          3.70071121e-02, -1.88399851e-02,  3.74031160e-03,\n",
       "          4.56941426e-02,  2.00670511e-02,  1.94113050e-02,\n",
       "          2.13247500e-02,  1.27097238e-02,  2.80559454e-02,\n",
       "          1.20653594e-02,  5.60566597e-02,  7.06838295e-02,\n",
       "          5.63888401e-02, -6.30654469e-02,  3.73988189e-02,\n",
       "         -3.70121524e-02, -1.46985902e-02,  2.91543920e-03,\n",
       "         -1.21546891e-02, -9.58614983e-03, -9.93294828e-03,\n",
       "          5.10871857e-02, -1.12162074e-02,  3.69601846e-02,\n",
       "          4.59159911e-02,  1.38675403e-02,  3.00713666e-02,\n",
       "          9.34360176e-03, -1.52303530e-02, -1.68416910e-02,\n",
       "          2.80489847e-02, -3.82481888e-02,  1.68699641e-02,\n",
       "          3.98544371e-02,  6.19848305e-03, -7.98930675e-02,\n",
       "         -4.47166944e-03,  1.84855070e-02, -7.61371385e-03,\n",
       "          1.32527305e-02,  2.89265830e-02,  5.53753041e-02,\n",
       "         -6.60577789e-02, -9.79544275e-05, -8.96549318e-04,\n",
       "          3.29547897e-02,  2.77556572e-02,  9.94072203e-03,\n",
       "          1.78509299e-02, -2.42404582e-04, -3.83887067e-02,\n",
       "         -4.07467484e-02,  6.85026050e-02,  2.13804450e-02,\n",
       "         -9.33871791e-03, -9.62963142e-03,  1.06709485e-04,\n",
       "         -1.29736662e-02, -1.71136484e-02,  2.46821009e-02,\n",
       "          1.50682237e-02, -3.14723141e-02, -5.02032600e-02,\n",
       "         -5.01435846e-02, -2.87937894e-02,  1.57414973e-02,\n",
       "          2.72842888e-02,  2.86112912e-02, -5.57877347e-02,\n",
       "          1.50739178e-02, -8.55766237e-03, -3.23390384e-04,\n",
       "          1.33005278e-02, -4.33825003e-03, -1.35434689e-02,\n",
       "          3.98829244e-02, -1.96226742e-02,  3.90886553e-02,\n",
       "          2.18947604e-02, -1.57497954e-02,  1.92321348e-03,\n",
       "         -1.66062303e-02,  1.64903253e-02,  2.26612971e-03,\n",
       "          6.81278557e-02, -4.14037071e-02,  3.44824567e-02,\n",
       "         -1.25120385e-02,  9.70904343e-03,  5.09432219e-02,\n",
       "         -9.41858720e-03,  5.75061925e-02, -3.31328698e-02,\n",
       "         -1.21841403e-02,  2.35487018e-02,  1.08055528e-02,\n",
       "          5.56409881e-02,  6.56023715e-03,  1.33861080e-02,\n",
       "          3.97201367e-02,  9.11952090e-03,  9.68896076e-02,\n",
       "         -1.06214015e-02,  2.00690906e-02,  6.35635033e-02,\n",
       "         -2.28266083e-02, -3.15557942e-02, -4.53622006e-02,\n",
       "          4.62141111e-02,  6.99082166e-02,  2.80444156e-02,\n",
       "         -4.22291458e-02,  1.41935544e-02,  4.83941622e-02,\n",
       "         -2.13437364e-03,  2.43036598e-02,  3.76985259e-02,\n",
       "          2.69267485e-02,  2.17126347e-02,  9.01633874e-03,\n",
       "          8.35020933e-03, -7.55399326e-03, -1.90128072e-03,\n",
       "          4.87775914e-02, -2.13267170e-02,  3.57938632e-02,\n",
       "          1.04003334e-02,  1.15889004e-02,  2.57228110e-02,\n",
       "         -9.50759568e-04,  5.22402395e-03, -1.43745579e-02,\n",
       "          1.89723819e-02, -1.11575006e-02,  3.20669934e-02,\n",
       "         -5.28459698e-02, -1.51738878e-02, -2.54237577e-02,\n",
       "          5.39875543e-03, -5.49543509e-03,  2.86149681e-02,\n",
       "         -8.32174905e-03,  3.35197076e-02, -2.98959762e-02,\n",
       "         -9.90195293e-03,  1.67915504e-02, -6.15102947e-02,\n",
       "         -1.90761127e-02, -7.89210852e-03, -3.57802734e-02,\n",
       "          3.10290717e-02,  9.19541251e-03, -2.09752005e-02,\n",
       "         -1.47968205e-02,  7.81053528e-02, -2.35697180e-02,\n",
       "         -5.15106991e-02,  7.23558618e-03, -1.18075050e-02,\n",
       "          1.81021951e-02, -1.09633422e-02,  3.16876657e-02,\n",
       "         -2.21142941e-03,  7.06378296e-02, -1.07822930e-02,\n",
       "          3.21850330e-02,  4.91641648e-02,  1.64567202e-03,\n",
       "         -1.40451184e-02,  7.92055018e-03, -6.74162060e-02,\n",
       "          7.77662965e-03, -1.85402855e-02,  2.57701650e-02,\n",
       "         -3.74138355e-02, -1.21492380e-02, -2.33847871e-02,\n",
       "          2.08532829e-02,  6.18876740e-02,  1.55178653e-02,\n",
       "         -8.55393261e-02,  5.88175654e-02,  6.09407201e-02,\n",
       "         -5.76146878e-02,  5.81094204e-03, -1.03875212e-01,\n",
       "         -1.41700590e-02, -2.36108899e-02, -1.51093549e-03,\n",
       "          1.06709579e-03, -6.18294394e-03,  2.30138376e-02,\n",
       "         -1.93227902e-02,  1.05761387e-03,  4.04538065e-02,\n",
       "          5.50543409e-05,  4.95734066e-03, -9.92702134e-03,\n",
       "          6.83362456e-03,  7.17924833e-02, -3.29551212e-02,\n",
       "          5.03894733e-03, -4.57332795e-03, -4.20936104e-03,\n",
       "          2.26461496e-02,  3.70409200e-03, -2.37407945e-02,\n",
       "          2.44053844e-02, -6.00530999e-04, -1.57016665e-02,\n",
       "         -1.51607499e-03,  1.27559574e-02,  1.24084372e-02,\n",
       "          1.35905091e-02, -9.94618144e-03,  4.10752855e-02,\n",
       "         -3.80001566e-03, -2.20166612e-03,  2.67224517e-02,\n",
       "          2.86685098e-02,  3.23704183e-02,  6.71460703e-02,\n",
       "         -7.77674932e-03, -2.06813365e-02, -7.61291338e-03,\n",
       "          2.56654937e-02, -8.00275709e-03,  1.14084277e-02,\n",
       "         -9.63845942e-03,  7.14729726e-02,  1.31591083e-02,\n",
       "          3.00150216e-02,  3.07157990e-02, -4.99560609e-02,\n",
       "         -2.73112655e-02,  3.64047885e-02, -3.78042832e-02,\n",
       "         -4.14527319e-02,  2.71502025e-02, -3.35240290e-02,\n",
       "         -9.56298038e-03, -8.00648406e-02,  1.01001710e-02,\n",
       "         -2.91725947e-03,  5.01772612e-02, -1.42048588e-02,\n",
       "          5.97098656e-02,  5.09703644e-02,  3.34733282e-03,\n",
       "          2.76974286e-03, -2.55954787e-02,  1.62018407e-02,\n",
       "         -5.52988462e-02, -1.63470972e-02,  1.16478838e-02,\n",
       "         -7.04679638e-02,  7.26025626e-02,  1.14943804e-02,\n",
       "          1.63797885e-02,  2.32283622e-02, -3.18718441e-02,\n",
       "         -4.84635271e-02, -9.54296440e-03,  4.97530587e-03,\n",
       "          3.41284312e-02,  2.87040360e-02, -1.79449450e-02,\n",
       "         -4.13291529e-02,  1.54566532e-03,  3.34046669e-02,\n",
       "         -4.26670443e-03, -8.61288607e-03,  4.07673456e-02,\n",
       "          6.29805475e-02, -2.48899478e-02, -6.18323199e-02,\n",
       "         -3.84217910e-02, -3.04400213e-02, -4.17979807e-02,\n",
       "         -1.44236311e-02,  7.65088852e-03,  2.07020007e-02,\n",
       "          4.74104285e-02,  8.56703892e-03,  5.92377689e-03,\n",
       "          5.02936309e-03, -5.92634939e-02,  5.03238756e-04,\n",
       "         -2.91611627e-02, -4.34587970e-02, -1.83102861e-02,\n",
       "         -7.87230954e-03, -4.51349355e-02, -2.59403810e-02,\n",
       "         -1.14146909e-02, -2.68587447e-03, -6.73076371e-03,\n",
       "         -1.82232801e-02, -6.66480809e-02, -1.67888086e-02,\n",
       "          5.58149442e-02,  4.46023382e-02, -2.00240128e-02,\n",
       "          3.74103151e-02,  2.58591939e-02, -4.46555279e-02,\n",
       "         -4.20306139e-02,  4.37634625e-02,  5.30588031e-02,\n",
       "         -4.52431524e-03,  5.74658997e-02,  2.59662755e-02,\n",
       "          3.31659950e-02,  4.58455831e-02,  1.58993229e-02,\n",
       "          1.87415222e-04, -3.19017912e-03, -1.33738937e-02,\n",
       "         -6.10441417e-02,  2.75821183e-02,  2.74636354e-02,\n",
       "          2.38546659e-03,  2.96420348e-03,  5.92721105e-02,\n",
       "          5.38517535e-02,  2.58039264e-03, -1.80368349e-02,\n",
       "          2.90579516e-02,  3.51847596e-02, -5.16457818e-02,\n",
       "          1.57093280e-03, -3.70775932e-03, -2.08156072e-02,\n",
       "          6.98742568e-02, -5.95186688e-02, -2.01850082e-03,\n",
       "          2.79927328e-02, -2.23397533e-03,  4.44149412e-02,\n",
       "         -7.59403855e-02,  1.14694517e-02, -4.01663892e-02,\n",
       "          4.21140492e-02, -7.05834152e-03, -2.40184963e-02,\n",
       "         -1.46745956e-02, -5.70177101e-04, -3.07124015e-02,\n",
       "         -6.23228140e-02,  1.00098578e-02, -8.11339170e-03,\n",
       "         -5.68056181e-02, -3.48094441e-02,  1.14737796e-02,\n",
       "         -4.15125526e-02, -1.37602678e-02, -1.53178321e-02,\n",
       "         -1.85208842e-02, -2.67236698e-02, -3.51822027e-03,\n",
       "         -6.87785745e-02, -2.86988523e-02,  4.28618826e-02,\n",
       "         -4.01754230e-02, -3.50329909e-03, -3.26690525e-02,\n",
       "         -1.03919739e-02, -1.81697477e-02,  4.83054109e-02,\n",
       "          1.16813532e-03,  3.69431041e-02,  2.24428885e-02,\n",
       "          3.43582071e-02, -8.19648132e-02, -1.93856806e-02,\n",
       "          1.76446158e-02,  2.78119016e-02,  1.11443087e-01,\n",
       "          6.75063878e-02,  4.53752391e-02, -3.72179411e-02,\n",
       "         -1.63383465e-02,  3.65939662e-02,  6.58048317e-03,\n",
       "          1.47022400e-03,  1.29492404e-02,  4.93755937e-02,\n",
       "          1.32908076e-02,  8.10336024e-02,  2.29709130e-02,\n",
       "         -1.09838299e-01,  1.56360548e-02, -7.31351506e-03,\n",
       "          4.15741513e-03,  7.47794984e-03,  4.78893332e-02,\n",
       "         -7.40418956e-02, -1.89169943e-02,  4.37870808e-02,\n",
       "         -4.84709442e-03, -4.09606919e-02,  1.88225117e-02,\n",
       "          1.68426037e-02,  5.21771424e-03, -1.27452996e-03,\n",
       "          4.33511026e-02,  2.91164536e-02,  2.14997749e-03,\n",
       "          5.91305597e-03, -5.52176572e-02, -4.87304032e-02,\n",
       "          6.03702217e-02,  3.26269940e-02,  3.29025351e-02,\n",
       "          1.77557021e-02, -2.35514194e-02, -1.82368315e-03,\n",
       "         -6.12672558e-03,  2.59252749e-02, -3.97994369e-03,\n",
       "         -2.39573345e-02, -1.07322289e-02,  5.32167256e-02,\n",
       "         -3.62880863e-02,  8.80659092e-03,  1.29363155e-02,\n",
       "          1.85327232e-02, -8.09708331e-03, -2.78647821e-02,\n",
       "         -5.42946495e-02, -1.33524947e-02, -4.06818986e-02,\n",
       "         -3.51949856e-02,  2.63947397e-02, -9.06933285e-03,\n",
       "         -6.19752146e-03,  5.04032634e-02,  8.68586730e-03,\n",
       "          4.58601564e-02,  1.92234088e-02,  2.44277418e-02,\n",
       "         -1.22479047e-04, -4.40737717e-02,  7.25988299e-02,\n",
       "         -2.93845590e-02,  4.55121836e-03, -3.13834436e-02,\n",
       "          2.24803090e-02,  1.21978847e-02, -3.99305373e-02]]),\n",
       " 'documents': ['Conditions and Disorders \\nWhat are the common conditions and disorders that affect your \\nheart? \\nHeart conditions are among the most common types of disorders. In the United States, heart \\ndisease is the leading cause of death. \\nCommon conditions that affect your heart include: \\n• \\nArrhythmia: A heartbeat that’s too fast, too slow or beats with an irregular rhythm. \\n• \\nCardiomyopathy: Unusual thickening, enlargement or stiffening of your heart \\nmuscle. \\n• \\nCongestive heart failure: Your heart is too stiff or too weak to properly pump blood \\nthroughout your body. \\n• \\nCoronary artery disease: Plaque buildup that leads to narrow coronary arteries. \\n• \\nDiabetes: Your blood sugar is higher than it should be. \\n• \\nHeart attack (myocardial infarction): A sudden coronary artery blockage that cuts off \\noxygen to part of your heart muscle. \\n• \\nHeart valve disease: A valve in your heart isn’t working right. \\n• \\nHigh blood pressure: Your blood is pushing too hard against your artery walls. \\n•'],\n",
       " 'uris': None,\n",
       " 'included': ['metadatas', 'documents', 'embeddings'],\n",
       " 'data': None,\n",
       " 'metadatas': [{'keywords': '',\n",
       "   'subject': '',\n",
       "   'creator': 'Microsoft® Word 2021',\n",
       "   'format': 'PDF 1.7',\n",
       "   'creationDate': \"D:20251019171755+05'30'\",\n",
       "   'trapped': '',\n",
       "   'author': 'Niyathi Devadiga',\n",
       "   'modDate': \"D:20251019171755+05'30'\",\n",
       "   'moddate': '2025-10-19T17:17:55+05:30',\n",
       "   'creationdate': '2025-10-19T17:17:55+05:30',\n",
       "   'total_pages': 22,\n",
       "   'page': 0,\n",
       "   'source': 'src\\\\docs\\\\doc1.pdf',\n",
       "   'producer': 'Microsoft® Word 2021',\n",
       "   'title': '',\n",
       "   'file_path': 'src\\\\docs\\\\doc1.pdf'}]}"
      ]
     },
     "execution_count": 3,
     "metadata": {},
     "output_type": "execute_result"
    }
   ],
   "source": [
    "vdb.peek(1)"
   ]
  },
  {
   "cell_type": "code",
   "execution_count": null,
   "id": "0897e253",
   "metadata": {},
   "outputs": [],
   "source": []
  },
  {
   "cell_type": "markdown",
   "id": "eb47dc6b",
   "metadata": {},
   "source": [
    "QUERRYING DB"
   ]
  },
  {
   "cell_type": "code",
   "execution_count": 3,
   "id": "8292a9e0",
   "metadata": {},
   "outputs": [],
   "source": [
    "querry =\"Symptoms of heart conditions\"\n",
    "x = vdb.query(query= \"Unusual thickening, enlargement or stiffening of your heart muscle, What is this condition calle?\")"
   ]
  },
  {
   "cell_type": "markdown",
   "id": "19ca4108",
   "metadata": {},
   "source": [
    "LLM Response"
   ]
  },
  {
   "cell_type": "code",
   "execution_count": 9,
   "id": "e8a2b3f3",
   "metadata": {},
   "outputs": [],
   "source": [
    "import google.genai as genai\n",
    "import os\n",
    "import dotenv\n",
    "\n",
    "dotenv.load_dotenv()\n",
    "GOOGLE_API_KEY = os.getenv(\"GOOGLE_API_KEY\")\n",
    "client = genai.Client(api_key = GOOGLE_API_KEY)\n",
    "\n",
    "# 2️⃣ Define the function\n",
    "def llm(query, passage):\n",
    "    prompt = f\"Context:\\n{passage}\\n\\nQuestion: {query}\"\n",
    "    response = client.models.generate_content(\n",
    "        model=\"gemini-2.5-flash\",\n",
    "        contents=prompt,\n",
    "    )\n",
    "    print(response.text)\n"
   ]
  },
  {
   "cell_type": "code",
   "execution_count": 10,
   "id": "c50d745a",
   "metadata": {},
   "outputs": [
    {
     "name": "stdout",
     "output_type": "stream",
     "text": [
      "The top 5 symptoms of heart conditions are:\n",
      "\n",
      "1.  Chest pain\n",
      "2.  Heart palpitations\n",
      "3.  Dizziness\n",
      "4.  Shortness of breath\n",
      "5.  Fatigue\n"
     ]
    }
   ],
   "source": [
    "querry =\"Symptoms of heart conditions give me top 5\"\n",
    "\n",
    "llm(passage= x, query=querry)"
   ]
  },
  {
   "cell_type": "code",
   "execution_count": 5,
   "id": "934fe81b",
   "metadata": {},
   "outputs": [],
   "source": [
    "from src.backend.llm import llm\n",
    "llm_obj = llm()\n"
   ]
  },
  {
   "cell_type": "code",
   "execution_count": 7,
   "id": "2e54106a",
   "metadata": {},
   "outputs": [],
   "source": [
    "response = llm_obj.genrate_response(query= querry, context= x)"
   ]
  },
  {
   "cell_type": "code",
   "execution_count": 9,
   "id": "35cfe46a",
   "metadata": {},
   "outputs": [
    {
     "name": "stdout",
     "output_type": "stream",
     "text": [
      "Symptoms of heart conditions include:\n",
      "*   Chest pain\n",
      "*   Heart palpitations\n",
      "*   Dizziness\n",
      "*   Shortness of breath\n",
      "*   Fatigue\n",
      "*   Swelling in your lower body\n"
     ]
    }
   ],
   "source": [
    "print(response.text)"
   ]
  },
  {
   "cell_type": "markdown",
   "id": "824114c0",
   "metadata": {},
   "source": [
    "Creating conversation history"
   ]
  },
  {
   "cell_type": "code",
   "execution_count": null,
   "id": "661b53de",
   "metadata": {},
   "outputs": [],
   "source": []
  },
  {
   "cell_type": "code",
   "execution_count": 1,
   "id": "073c922e",
   "metadata": {},
   "outputs": [
    {
     "name": "stdout",
     "output_type": "stream",
     "text": [
      "C:\\Users\\PUNEETH\\Desktop\\All files\\RAG\\niyathi_rag\n"
     ]
    }
   ],
   "source": [
    "%cd \"C:\\Users\\PUNEETH\\Desktop\\All files\\RAG\\niyathi_rag\""
   ]
  },
  {
   "cell_type": "code",
   "execution_count": 4,
   "id": "c83e8a13",
   "metadata": {},
   "outputs": [
    {
     "ename": "ModuleNotFoundError",
     "evalue": "No module named 'langchain.memory'",
     "output_type": "error",
     "traceback": [
      "\u001b[1;31m---------------------------------------------------------------------------\u001b[0m",
      "\u001b[1;31mModuleNotFoundError\u001b[0m                       Traceback (most recent call last)",
      "Cell \u001b[1;32mIn[4], line 1\u001b[0m\n\u001b[1;32m----> 1\u001b[0m \u001b[38;5;28;01mfrom\u001b[39;00m\u001b[38;5;250m \u001b[39m\u001b[38;5;21;01mlangchain\u001b[39;00m\u001b[38;5;21;01m.\u001b[39;00m\u001b[38;5;21;01mmemory\u001b[39;00m\u001b[38;5;250m \u001b[39m\u001b[38;5;28;01mimport\u001b[39;00m ConversationBufferWindowMemory\n\u001b[0;32m      2\u001b[0m \u001b[38;5;28;01mfrom\u001b[39;00m\u001b[38;5;250m \u001b[39m\u001b[38;5;21;01mlangchain_google_genai\u001b[39;00m\u001b[38;5;250m \u001b[39m\u001b[38;5;28;01mimport\u001b[39;00m ChatGoogleGenerativeAI\n\u001b[0;32m      3\u001b[0m \u001b[38;5;28;01mfrom\u001b[39;00m\u001b[38;5;250m \u001b[39m\u001b[38;5;21;01mlangchain\u001b[39;00m\u001b[38;5;21;01m.\u001b[39;00m\u001b[38;5;21;01mchains\u001b[39;00m\u001b[38;5;250m \u001b[39m\u001b[38;5;28;01mimport\u001b[39;00m ConversationalRetrievalChain\n",
      "\u001b[1;31mModuleNotFoundError\u001b[0m: No module named 'langchain.memory'"
     ]
    }
   ],
   "source": [
    "from langchain.memory import ConversationBufferWindowMemory\n",
    "from langchain_google_genai import ChatGoogleGenerativeAI\n",
    "from langchain.chains import ConversationalRetrievalChain\n",
    "\n",
    "# Initialize memory (keeps last 10 messages)\n",
    "memory = ConversationBufferWindowMemory(\n",
    "    k=10,\n",
    "    memory_key=\"chat_history\",\n",
    "    return_messages=True,\n",
    "    output_key=\"answer\"\n",
    ")\n",
    "\n",
    "# Create conversational chain\n",
    "llm = ChatGoogleGenerativeAI(model=\"gemini-2.5-flash\")\n",
    "qa_chain = ConversationalRetrievalChain.from_llm(\n",
    "    llm=llm,\n",
    "    retriever=vdb.as_retriever(),\n",
    "    memory=memory\n",
    ")\n",
    "\n",
    "# Use it\n",
    "# response = qa_chain({\"question\": user_query})"
   ]
  },
  {
   "cell_type": "code",
   "execution_count": 5,
   "id": "b43e2e2b",
   "metadata": {},
   "outputs": [],
   "source": [
    "from collections import deque\n",
    "\n",
    "class ConversationHistory:\n",
    "    def __init__(self, max_history=10):\n",
    "        self.history = deque(maxlen=max_history)\n",
    "    \n",
    "    def add_exchange(self, user_query, assistant_response):\n",
    "        self.history.append({\n",
    "            \"user\": user_query,\n",
    "            \"assistant\": assistant_response\n",
    "        })\n",
    "    \n",
    "    def get_history_string(self):\n",
    "        \"\"\"Format history for LLM context\"\"\"\n",
    "        history_text = \"\"\n",
    "        for exchange in self.history:\n",
    "            history_text += f\"User: {exchange['user']}\\nAssistant: {exchange['assistant']}\\n\\n\"\n",
    "        return history_text\n",
    "    \n",
    "    def clear(self):\n",
    "        self.history.clear()"
   ]
  },
  {
   "cell_type": "code",
   "execution_count": null,
   "id": "803ae877",
   "metadata": {},
   "outputs": [],
   "source": [
    "def llm_with_history(client,query, passage, conversation_history):\n",
    "    # Get formatted history\n",
    "    history_context = conversation_history.get_history_string()\n",
    "    \n",
    "    # Build prompt with history\n",
    "    prompt = f\"\"\"Previous Conversation:\n",
    "    {history_context}\n",
    "\n",
    "    Context (from documents):\n",
    "    {passage}\n",
    "\n",
    "    Current Question: {query}\n",
    "\n",
    "    Please answer the current question, considering the conversation history if relevant.\"\"\"\n",
    "    \n",
    "    response = client.models.generate_content(\n",
    "        model=\"gemini-2.5-flash\",\n",
    "        contents=prompt,\n",
    "    )\n",
    "    \n",
    "    # Add this exchange to history\n",
    "    conversation_history.add_exchange(query, response.text)\n",
    "    \n",
    "    return response"
   ]
  },
  {
   "cell_type": "code",
   "execution_count": null,
   "id": "a52f365c",
   "metadata": {},
   "outputs": [
    {
     "ename": "NameError",
     "evalue": "name 'client' is not defined",
     "output_type": "error",
     "traceback": [
      "\u001b[1;31m---------------------------------------------------------------------------\u001b[0m",
      "\u001b[1;31mNameError\u001b[0m                                 Traceback (most recent call last)",
      "Cell \u001b[1;32mIn[7], line 21\u001b[0m\n\u001b[0;32m     18\u001b[0m relevant_docs \u001b[38;5;241m=\u001b[39m vdb\u001b[38;5;241m.\u001b[39mquery(query\u001b[38;5;241m=\u001b[39muser_query)\n\u001b[0;32m     20\u001b[0m \u001b[38;5;66;03m# Generate response with history\u001b[39;00m\n\u001b[1;32m---> 21\u001b[0m response \u001b[38;5;241m=\u001b[39m \u001b[43mllm_with_history\u001b[49m\u001b[43m(\u001b[49m\u001b[43muser_query\u001b[49m\u001b[43m,\u001b[49m\u001b[43m \u001b[49m\u001b[43mrelevant_docs\u001b[49m\u001b[43m,\u001b[49m\u001b[43m \u001b[49m\u001b[43mchat_history\u001b[49m\u001b[43m)\u001b[49m\n\u001b[0;32m     23\u001b[0m \u001b[38;5;28mprint\u001b[39m(\u001b[38;5;124mf\u001b[39m\u001b[38;5;124m\"\u001b[39m\u001b[38;5;124mAssistant: \u001b[39m\u001b[38;5;132;01m{\u001b[39;00mresponse\u001b[38;5;241m.\u001b[39mtext\u001b[38;5;132;01m}\u001b[39;00m\u001b[38;5;130;01m\\n\u001b[39;00m\u001b[38;5;124m\"\u001b[39m)\n",
      "Cell \u001b[1;32mIn[6], line 16\u001b[0m, in \u001b[0;36mllm_with_history\u001b[1;34m(query, passage, conversation_history)\u001b[0m\n\u001b[0;32m      5\u001b[0m \u001b[38;5;66;03m# Build prompt with history\u001b[39;00m\n\u001b[0;32m      6\u001b[0m prompt \u001b[38;5;241m=\u001b[39m \u001b[38;5;124mf\u001b[39m\u001b[38;5;124m\"\"\"\u001b[39m\u001b[38;5;124mPrevious Conversation:\u001b[39m\n\u001b[0;32m      7\u001b[0m \u001b[38;5;124m\u001b[39m\u001b[38;5;132;01m{\u001b[39;00mhistory_context\u001b[38;5;132;01m}\u001b[39;00m\n\u001b[0;32m      8\u001b[0m \u001b[38;5;124m\u001b[39m\n\u001b[1;32m   (...)\u001b[0m\n\u001b[0;32m     13\u001b[0m \u001b[38;5;124m\u001b[39m\n\u001b[0;32m     14\u001b[0m \u001b[38;5;124mPlease answer the current question, considering the conversation history if relevant.\u001b[39m\u001b[38;5;124m\"\"\"\u001b[39m\n\u001b[1;32m---> 16\u001b[0m response \u001b[38;5;241m=\u001b[39m \u001b[43mclient\u001b[49m\u001b[38;5;241m.\u001b[39mmodels\u001b[38;5;241m.\u001b[39mgenerate_content(\n\u001b[0;32m     17\u001b[0m     model\u001b[38;5;241m=\u001b[39m\u001b[38;5;124m\"\u001b[39m\u001b[38;5;124mgemini-2.5-flash\u001b[39m\u001b[38;5;124m\"\u001b[39m,\n\u001b[0;32m     18\u001b[0m     contents\u001b[38;5;241m=\u001b[39mprompt,\n\u001b[0;32m     19\u001b[0m )\n\u001b[0;32m     21\u001b[0m \u001b[38;5;66;03m# Add this exchange to history\u001b[39;00m\n\u001b[0;32m     22\u001b[0m conversation_history\u001b[38;5;241m.\u001b[39madd_exchange(query, response\u001b[38;5;241m.\u001b[39mtext)\n",
      "\u001b[1;31mNameError\u001b[0m: name 'client' is not defined"
     ]
    }
   ],
   "source": [
    "from src.constants import GOOGLE_API_KEY\n",
    "# Initialize conversation history\n",
    "chat_history = ConversationHistory(max_history=10)\n",
    "\n",
    "from src.backend.vectordb_handler import VectorDBManagerOpenAI\n",
    "vdb = VectorDBManagerOpenAI(\n",
    "        db_path=\"./chroma_db\",\n",
    "        collection_name=\"heart_data_vb\"\n",
    ")\n",
    "\n",
    "# Chat loop\n",
    "client = genai.Client(api_key = GOOGLE_API_KEY)\n",
    "while True:\n",
    "    user_query = input(\"You: \")\n",
    "    \n",
    "    if user_query.lower() in ['exit', 'quit']:\n",
    "        break\n",
    "    \n",
    "    # Query vector DB for relevant context\n",
    "    relevant_docs = vdb.query(query=user_query)\n",
    "    \n",
    "    # Generate response with history\n",
    "    response = llm_with_history(client,user_query, relevant_docs, chat_history)\n",
    "    \n",
    "    print(f\"Assistant: {response.text}\\n\")"
   ]
  },
  {
   "cell_type": "code",
   "execution_count": null,
   "id": "66ef33b4",
   "metadata": {},
   "outputs": [],
   "source": []
  }
 ],
 "metadata": {
  "kernelspec": {
   "display_name": "genai_env",
   "language": "python",
   "name": "python3"
  },
  "language_info": {
   "codemirror_mode": {
    "name": "ipython",
    "version": 3
   },
   "file_extension": ".py",
   "mimetype": "text/x-python",
   "name": "python",
   "nbconvert_exporter": "python",
   "pygments_lexer": "ipython3",
   "version": "3.10.19"
  }
 },
 "nbformat": 4,
 "nbformat_minor": 5
}
