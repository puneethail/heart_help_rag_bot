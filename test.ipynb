{
 "cells": [
  {
   "cell_type": "code",
   "execution_count": null,
   "id": "f86ded64",
   "metadata": {},
   "outputs": [
    {
     "name": "stdout",
     "output_type": "stream",
     "text": [
      "C:\\Users\\PUNEETH\\Desktop\\All files\\RAG\\niyathi_rag\n",
      "models/text-embedding-004\n"
     ]
    }
   ],
   "source": [
    "%cd \"C:\\Users\\PUNEETH\\Desktop\\All files\\RAG\\niyathi_rag\"\n",
    "from src.constents import GOOGLE_API_KEY, EMBEDDING_MODEL\n",
    "print()"
   ]
  },
  {
   "cell_type": "code",
   "execution_count": 1,
   "id": "c7656466",
   "metadata": {},
   "outputs": [
    {
     "name": "stdout",
     "output_type": "stream",
     "text": [
      "C:\\Users\\PUNEETH\\Desktop\\All files\\RAG\\niyathi_rag\n"
     ]
    }
   ],
   "source": [
    "%cd \"C:\\Users\\PUNEETH\\Desktop\\All files\\RAG\\niyathi_rag\""
   ]
  },
  {
   "cell_type": "code",
   "execution_count": null,
   "id": "0843ecb9",
   "metadata": {},
   "outputs": [],
   "source": [
    "from src.backend.vb4 import VectorDBManagerOpenAI\n",
    "\n",
    "\n",
    "\n",
    "vdb = VectorDBManagerOpenAI(\n",
    "        db_path=\"./chroma_db\",\n",
    "        collection_name=\"test5\"\n",
    "    )"
   ]
  },
  {
   "cell_type": "code",
   "execution_count": 3,
   "id": "71e8b34a",
   "metadata": {},
   "outputs": [
    {
     "name": "stdout",
     "output_type": "stream",
     "text": [
      "\n",
      "🔍 Top Retrieved Chunks:\n",
      "\n",
      "Rank 1:\n",
      "oxygen to part of your heart muscle. \n",
      "• \n",
      "Heart valve disease: A valve in your heart isn’t working right. \n",
      "• \n",
      "High blood pressure: Your blood is pushing too hard against your artery walls. \n",
      "• \n",
      "High cholesterol: Your blood has too many fats in it. \n",
      "• \n",
      "Pericarditis: Inflammation in your heart’s lining (pericardium). \n",
      "Common signs or symptoms of heart conditions \n",
      "Symptoms of heart conditions include: \n",
      "• \n",
      "Chest pain. \n",
      "• \n",
      "Heart palpitations. \n",
      "• \n",
      "Dizziness. \n",
      "• \n",
      "Shortness of breath. \n",
      "• \n",
      "Fatigue. \n",
      "• \n",
      "Swe...\n",
      "\n",
      "Rank 2:\n",
      "Conditions and Disorders \n",
      "What are the common conditions and disorders that affect your \n",
      "heart? \n",
      "Heart conditions are among the most common types of disorders. In the United States, heart \n",
      "disease is the leading cause of death. \n",
      "Common conditions that affect your heart include: \n",
      "• \n",
      "Arrhythmia: A heartbeat that’s too fast, too slow or beats with an irregular rhythm. \n",
      "• \n",
      "Cardiomyopathy: Unusual thickening, enlargement or stiffening of your heart \n",
      "muscle. \n",
      "• \n",
      "Congestive heart failure: Your heart is...\n",
      "\n",
      "Rank 3:\n",
      "• \n",
      "Aim for 7–8 hours of quality sleep per night. \n",
      " \n",
      " 7. Limit caffeine \n",
      "• \n",
      "Some people are sensitive to caffeine’s blood pressure–raising effect. \n",
      "• \n",
      "Try reducing coffee or energy drinks to see if it helps. \n",
      " \n",
      " 8. Follow your doctor’s advice \n",
      "• \n",
      "If you’re on blood pressure medication, take it regularly. \n",
      "• \n",
      "Check your blood pressure at home and track changes. \n",
      "• \n",
      "Schedule regular medical checkups. \n",
      " \n",
      " \n",
      " \n",
      "What are the symptoms of a heart attack? \n",
      " \n",
      " Major Symptoms \n",
      "1. Chest pain or discomfort \n",
      "o ...\n"
     ]
    }
   ],
   "source": [
    "querry =\"Symptoms of heart conditions give me top 5\"\n",
    "x = vdb.query(query= querry)"
   ]
  }
 ],
 "metadata": {
  "kernelspec": {
   "display_name": "genai_env",
   "language": "python",
   "name": "python3"
  },
  "language_info": {
   "codemirror_mode": {
    "name": "ipython",
    "version": 3
   },
   "file_extension": ".py",
   "mimetype": "text/x-python",
   "name": "python",
   "nbconvert_exporter": "python",
   "pygments_lexer": "ipython3",
   "version": "3.10.19"
  }
 },
 "nbformat": 4,
 "nbformat_minor": 5
}
